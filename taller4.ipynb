{
  "nbformat": 4,
  "nbformat_minor": 0,
  "metadata": {
    "colab": {
      "provenance": [],
      "include_colab_link": true
    },
    "kernelspec": {
      "name": "python3",
      "display_name": "Python 3"
    },
    "language_info": {
      "name": "python"
    }
  },
  "cells": [
    {
      "cell_type": "markdown",
      "metadata": {
        "id": "view-in-github",
        "colab_type": "text"
      },
      "source": [
        "<a href=\"https://colab.research.google.com/github/brandonegachancipas-oss/Taller-4/blob/main/taller4.ipynb\" target=\"_parent\"><img src=\"https://colab.research.google.com/assets/colab-badge.svg\" alt=\"Open In Colab\"/></a>"
      ]
    },
    {
      "cell_type": "markdown",
      "source": [
        "# **PREGUNTAS**\n",
        "\n",
        "\n",
        "1. Entrenas un modelo y obtienes un 99% de exactitud sobre los datos de entrenamiento, pero solo un 75% sobre los datos de prueba. ¿Qué problema indica este resultado y por qué?\n",
        "\n",
        "**Respuesta:**\n",
        "\n",
        "El modelo aprendió muy bien los datos de entrenamiento,sin embargo, al evaluarse en datos de prueba, que son nuevos para él, su desempeño es bajo; por lo cual en lugar de aprender patrones reales y útiles, memorizó en exceso los ejemplos de entrenamiento.\n",
        "\n",
        "2. Si el error de tu modelo es muy alto tanto en el conjunto de entrenamiento como en el de validación, ¿cuál es el problema más probable? ¿Creerías que añadir más datos de entrenamiento solucionaría el problema?\n",
        "\n",
        "**Respuesta:**\n",
        "\n",
        "El problema es de subajuste porque el modelo es demasiado simple (poca capacidad, arquitectura limitada, pocos parámetros) o porque no se entrenó correctamente.\n",
        "Añadir más datos de entrenamiento no resolverá el problema. Si el modelo ya tiene un error alto en entrenamiento, darle más ejemplos solo repetirá la misma incapacidad de aprender."
      ],
      "metadata": {
        "id": "USwrNYMMA9pA"
      }
    },
    {
      "cell_type": "markdown",
      "source": [
        "3. En un problema para predecir fallas en una máquina, tienes 100 variables provenientes de sensores, pero sospechas que solo unas pocas son realmente importantes. ¿Usarías Ridge o Lasso? Justifica tu respuesta.\n",
        "\n",
        "**Respuesta:**\n",
        "\n",
        "Se usaria Lasso, ya que puede anular completamente algunos coeficientes los cuales los vuelve cero.\n",
        "\n",
        "Lasso filtra automáticamente las variables irrelevantes y ayuda a interpretar mejor el modelo, mostrando cuáles sensores realmente importan.\n",
        "\n",
        "4. Si entrenas un modelo Lasso y aumentas gradualmente el valor del hiperparámetro de penalización (λ), ¿qué efecto esperarías observar en los coeficientes del modelo?\n",
        "\n",
        "**Respuesta:**\n",
        "\n",
        "Al incrementar λ en Lasso, los coeficientes se encogen progresivamente hacia cero, y cada vez más variables son eliminadas del modelo.\n",
        "\n",
        "5. Al ejecutar el código de regularización 3D, ¿qué sucede con los coeficientes del modelo a medida que aumenta el valor de λ? ¿Qué interpretación le das a la forma diferente en que Ridge y Lasso aplican sus penalizaciones?\n",
        "\n",
        "**Respuesta:**\n",
        "\n",
        "Ridge (L2): a medida que aumenta λ, los coeficientes se encogen suavemente hacia cero, pero nunca llegan exactamente a cero.\n",
        "\n",
        "Lasso (L1): a medida que aumenta λ, los coeficientes no solo se encogen, sino que muchos de ellos se hacen exactamente cero → eliminando variables del modelo.\n",
        "\n",
        "+Penalización:\n",
        "\n",
        "-Ridge (L2):Como el cuadrado nunca permite “saltos bruscos”, los coeficientes se reducen de manera suave, pero rara vez llegan exactamente a cero.\n",
        "\n",
        "-Lasso (L1):Esas “esquinas” hacen que en la optimización sea más probable que algunos coeficientes queden exactamente en cero."
      ],
      "metadata": {
        "id": "5Ua9JWm0A01S"
      }
    },
    {
      "cell_type": "markdown",
      "source": [
        "6. Quieres optimizar un modelo Ridge y pruebas manualmente alpha=10, obteniendo un buen resultado. ¿Por qué sigue siendo metodológicamente superior usar GridSearchCV en lugar de quedarte con ese valor?\n",
        "\n",
        "**Respuesta:**\n",
        "\n",
        "GridSearchCV es mejor porque explora el espacio de hiperparámetros de forma exhaustiva,valida con múltiples particiones para mayor fiabilidad y asegura que la elección del parámetro no se deba al azar o a un único conjunto de datos.\n",
        "\n",
        "7. Además del modelo en sí (ej. Lasso()), ¿cuáles son los dos componentes principales que debes proporcionar a GridSearchCV para iniciar la búsqueda de hiperparámetros?\n",
        "\n",
        "**Respuesta:**\n",
        "\n",
        "-Un diccionario de hiperparámetros (param_grid):Aquí defines qué valores quieres que GridSearchCV pruebe.\n",
        "\n",
        "-Un esquema de validación cruzada (cv):Esto asegura que el modelo se evalúe de manera más robusta en diferentes particiones de los datos.\n",
        "\n",
        "8. Si GridSearchCV selecciona un alpha muy pequeño (cercano a cero) como el mejor parámetro para tu modelo, ¿qué te sugiere esto sobre el nivel de sobreajuste que tenía tu modelo original sin regularizar?\n",
        "\n",
        "Respuesta:\n",
        "\n",
        "Sugiere que el modelo original sin regularizar no tenía un sobreajuste significativo, ya que una penalización pequeña (alpha cercano a cero) fue suficiente o incluso la mejor opción."
      ],
      "metadata": {
        "id": "jC9bLZDHBLdk"
      }
    },
    {
      "cell_type": "markdown",
      "source": [
        "9. En un árbol de decisión para optimizar la logística de un almacén, ¿qué podría representar un nodo hoja?\n",
        "\n",
        "Respuesta:\n",
        "\n",
        "Un nodo hoja podría representar una decisión final o una acción específica, como la ubicación de almacenamiento óptima para un producto o la ruta de recolección más eficiente para un pedido.\n",
        "\n",
        "10. Un ingeniero crea un árbol para predecir fallos en una máquina. El árbol es extremadamente profundo y tiene reglas muy específicas como \"Si la temperatura es 75.3°C y la vibración es 0.152 m/s² y el operador es Juan...\". ¿Qué problema de ajuste es este y por qué no sería fiable en la práctica diaria de la planta?\n",
        "\n",
        "Respuesta:\n",
        "\n",
        "Este es un problema de sobreajuste. El árbol ha memorizado los datos de entrenamiento de forma excesiva (incluyendo ruido o detalles irrelevantes) y no generalizará bien a nuevas situaciones o datos ligeramente diferentes en la planta. No sería fiable porque las condiciones exactas vistas en el entrenamiento rara vez se repetirán en la práctica diaria, llevando a predicciones incorrectas."
      ],
      "metadata": {
        "id": "CgwTcd_nBiM6"
      }
    },
    {
      "cell_type": "markdown",
      "source": [
        "11. Al visualizar la \"importancia de las características\" de tu árbol, descubres que el \"proveedor de materia prima\" es la variable más importante. ¿Qué acción inmediata podrías tomar en la planta con esta información?\n",
        "\n",
        "Respuesta:\n",
        "\n",
        "Podrías investigar a los proveedores para entender por qué algunos están asociados con más fallas. Esto podría implicar revisar la calidad de la materia prima, los procesos de entrega, o si la materia prima de ciertos proveedores interactúa negativamente con las máquinas.\n",
        "\n",
        "12. Si tu árbol de decisión está clasificando perfectamente los datos históricos pero falla mucho con los datos de la última semana (sobreajuste), ¿qué parámetro de poda ajustarías primero para que generalice mejor?\n",
        "\n",
        "Respuesta:\n",
        "\n",
        "Ajustaría primero parámetros que limitan la profundidad o la complejidad del árbol, como max_depth (profundidad máxima del árbol) o min_samples_leaf (número mínimo de muestras requeridas para estar en un nodo hoja).\n",
        "\n"
      ],
      "metadata": {
        "id": "JrBJJdJNBuRK"
      }
    },
    {
      "cell_type": "markdown",
      "source": [
        "13. Al visualizar la \"importancia de las características\" de tu árbol, descubres que el \"proveedor de materia prima\" es la variable más importante. ¿Qué acción inmediata podrías tomar en la planta con esta información?\n",
        "\n",
        "Respuesta:\n",
        "\n",
        "Podrías investigar a los proveedores para entender por qué algunos están asociados con más fallas. Esto podría implicar revisar la calidad de la materia prima, los procesos de entrega, o si la materia prima de ciertos proveedores interactúa negativamente con las máquinas.\n",
        "\n",
        "14. Si tu árbol de decisión está clasificando perfectamente los datos históricos pero falla mucho con los datos de la última semana (sobreajuste), ¿qué parámetro de poda ajustarías primero para que generalice mejor?\n",
        "\n",
        "Respuesta:\n",
        "\n",
        "Ajustaría primero parámetros que limitan la profundidad o la complejidad del árbol, como max_depth (profundidad máxima del árbol) o min_samples_leaf (número mínimo de muestras requeridas para estar en un nodo hoja)."
      ],
      "metadata": {
        "id": "RpEtsRz6B1Vs"
      }
    }
  ]
}